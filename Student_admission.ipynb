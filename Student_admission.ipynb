{
 "cells": [
  {
   "cell_type": "code",
   "execution_count": null,
   "id": "10f2bc5f",
   "metadata": {},
   "outputs": [],
   "source": [
    "import numpy as np\n",
    "import pandas as pd \n",
    "import matplotlib.pyplot as plt\n",
    "import seaborn as sns\n",
    "%matplotlib inline"
   ]
  },
  {
   "cell_type": "code",
   "execution_count": null,
   "id": "4a4ed2fb",
   "metadata": {},
   "outputs": [],
   "source": [
    "df=pd.read_csv(r'C:\\Users\\Mani\\Downloads\\admission_predict.csv')\n",
    "df"
   ]
  },
  {
   "cell_type": "code",
   "execution_count": null,
   "id": "a7d09ff6",
   "metadata": {},
   "outputs": [],
   "source": [
    "df.head()\n",
    "df.tail\n",
    "df.columns\n",
    "df.info\n",
    "df.describe().T\n",
    "df.dtypes\n",
    "df.isnull().any()"
   ]
  },
  {
   "cell_type": "code",
   "execution_count": null,
   "id": "30e10ea8",
   "metadata": {},
   "outputs": [],
   "source": [
    "df=df.rename(columns={'GRE Score':'GRE','TOEFL Score':'TOEFL','LOR ':'LOR',\n",
    "'Chance of Admit ':'Probability'})"
   ]
  },
  {
   "cell_type": "code",
   "execution_count": null,
   "id": "fd53debc",
   "metadata": {},
   "outputs": [],
   "source": [
    "fig=plt.hist(df['GRE'],rwidth=0.8)\n",
    "plt.xlabel('Distribution of GRE scores')\n",
    "plt.xlabel('GRE scores')\n",
    "plt.ylabel('Count')\n",
    "plt.show()"
   ]
  },
  {
   "cell_type": "code",
   "execution_count": null,
   "id": "aa401e30",
   "metadata": {},
   "outputs": [],
   "source": [
    "fig=plt.hist(df['TOEFL'],rwidth=0.8)\n",
    "plt.xlabel('Distribution of GRE scores')\n",
    "plt.xlabel('TOEFL scores')\n",
    "plt.ylabel('Count')\n",
    "plt.show()"
   ]
  },
  {
   "cell_type": "code",
   "execution_count": null,
   "id": "af2b55a9",
   "metadata": {},
   "outputs": [],
   "source": [
    "sns.pairplot(data=df,hue='Research')\n",
    "plt.show()"
   ]
  },
  {
   "cell_type": "code",
   "execution_count": null,
   "id": "7f0e6d76",
   "metadata": {},
   "outputs": [],
   "source": [
    "sns.relplot(x='GRE',y='TOEFL',data=df,hue='Research')"
   ]
  },
  {
   "cell_type": "code",
   "execution_count": null,
   "id": "20c3b36a",
   "metadata": {},
   "outputs": [],
   "source": [
    "sns.scatterplot(x='GRE',y='CGPA',data=df,hue='Research')"
   ]
  },
  {
   "cell_type": "code",
   "execution_count": null,
   "id": "535b6892",
   "metadata": {},
   "outputs": [],
   "source": [
    "fig=plt.hist(df['University Rating'],rwidth=0.8)\n",
    "plt.xlabel('Distribution of University Rating')\n",
    "plt.xlabel('University Rating')\n",
    "plt.ylabel('Count')\n",
    "plt.show()"
   ]
  },
  {
   "cell_type": "code",
   "execution_count": null,
   "id": "e49c2d6e",
   "metadata": {},
   "outputs": [],
   "source": [
    "fig=plt.hist(df['SOP'],rwidth=0.8)\n",
    "plt.xlabel('Distribution of SOP')\n",
    "plt.xlabel('SOP of Rating')\n",
    "plt.ylabel('Count')\n",
    "plt.show()"
   ]
  },
  {
   "cell_type": "code",
   "execution_count": null,
   "id": "cad99497",
   "metadata": {},
   "outputs": [],
   "source": [
    "fig=plt.hist(df['LOR'],rwidth=0.9)\n",
    "plt.xlabel('Distribution of LOR Rating')\n",
    "plt.xlabel('LOR Rating')\n",
    "plt.ylabel('Count')\n",
    "plt.show()"
   ]
  },
  {
   "cell_type": "code",
   "execution_count": null,
   "id": "c3870e88",
   "metadata": {},
   "outputs": [],
   "source": [
    "fig=sns.displot(df['CGPA'],kde=True)\n",
    "plt.xlabel('Distribution of CGPA')\n",
    "plt.xlabel('CGPA')\n",
    "plt.ylabel('Count')\n",
    "plt.show()"
   ]
  },
  {
   "cell_type": "code",
   "execution_count": null,
   "id": "d68dd1c7",
   "metadata": {},
   "outputs": [],
   "source": [
    "fig=plt.hist(df['Research'],rwidth=0.8)\n",
    "plt.xlabel('Distribution of Research')\n",
    "plt.xlabel('Research')\n",
    "plt.ylabel('Count')\n",
    "plt.show()"
   ]
  },
  {
   "cell_type": "code",
   "execution_count": null,
   "id": "e5cda86e",
   "metadata": {},
   "outputs": [],
   "source": [
    "df.drop('Serial No.',axis='columns',inplace=True)\n",
    "df.head()"
   ]
  },
  {
   "cell_type": "code",
   "execution_count": null,
   "id": "fb81e44b",
   "metadata": {},
   "outputs": [],
   "source": [
    "df_copy=df.copy(deep=True)\n",
    "df_copy[['GRE','TOEFL','University Rating','SOP','LOR','CGPA']]=df_copy[['GRE',\n",
    "'TOEFL','University Rating','SOP','LOR','CGPA']].replace(0,np.NaN)"
   ]
  },
  {
   "cell_type": "code",
   "execution_count": null,
   "id": "c949384c",
   "metadata": {},
   "outputs": [],
   "source": [
    "df_copy.isnull().sum()"
   ]
  },
  {
   "cell_type": "code",
   "execution_count": null,
   "id": "7064ddf6",
   "metadata": {},
   "outputs": [],
   "source": [
    "x=df_copy.drop('Probability',axis='columns')\n",
    "y=df_copy.Probability"
   ]
  },
  {
   "cell_type": "code",
   "execution_count": null,
   "id": "eb03f07f",
   "metadata": {},
   "outputs": [],
   "source": [
    "from sklearn.model_selection import GridSearchCV\n",
    "from sklearn.linear_model import LinearRegression\n",
    "from sklearn.linear_model import Lasso\n",
    "from sklearn.svm import SVR\n",
    "from sklearn.tree import DecisionTreeRegressor\n",
    "from sklearn.ensemble import RandomForestRegressor\n",
    "from sklearn.neighbors import KNeighborsRegressor"
   ]
  },
  {
   "cell_type": "code",
   "execution_count": null,
   "id": "5d71bb9d",
   "metadata": {},
   "outputs": [],
   "source": [
    "def find_best_model(x,y):\n",
    "    models={\n",
    "        'linear_regression':{\n",
    "            'model':LinearRegression(),\n",
    "            'parameters': {\n",
    "                'normalize':[True,False]\n",
    "            }\n",
    "        },\n",
    "        \n",
    "        'Lasso':{\n",
    "            'model':Lasso(),\n",
    "            'parameters':{\n",
    "                'alpha':[1,2],\n",
    "                'selection':['random','cyclic']\n",
    "            }\n",
    "        },\n",
    "        'svr':{\n",
    "            'model':SVR(),\n",
    "            'parameters':{\n",
    "                'gamma':['auto','scale']\n",
    "            }\n",
    "        },\n",
    "        'decision_tree':{\n",
    "            'model':DecisionTreeRegressor(),\n",
    "            'parameters':{\n",
    "                'criterion':['mse','friedman_mse'],\n",
    "                'splitter':['best','random']\n",
    "            }\n",
    "        },\n",
    "        'random_forest':{\n",
    "            'model':RandomForestRegressor(criterion='mse'),\n",
    "            'parameters':{\n",
    "                'n_estimators':[5,10,15,20]\n",
    "            }\n",
    "        },\n",
    "        'knn':{\n",
    "            'model':KNeighborsRegressor(algorithm='auto'),\n",
    "            'parameters':{\n",
    "                'n_neighbors':[2,5,10,20]\n",
    "            }\n",
    "        }\n",
    "    }\n",
    "    scores=[]\n",
    "    for model_name,model_params in models.items():\n",
    "        gs=GridSearchCV(model_params['model'],model_params['parameters'],cv=5,\n",
    "return_train_score=False)\n",
    "        gs.fit(x,y)\n",
    "        scores.append({\n",
    "            'model':model_name,\n",
    "            'best_parameters':gs.best_params_,\n",
    "            'score':gs.best_score_\n",
    "        })\n",
    "    return pd.DataFrame(scores,columns=['model','best_parameters','score'])\n",
    "find_best_model(x,y)\n",
    "                "
   ]
  },
  {
   "cell_type": "code",
   "execution_count": null,
   "id": "ada21057",
   "metadata": {},
   "outputs": [],
   "source": [
    "from sklearn.model_selection import cross_val_score\n",
    "scores=cross_val_score(LinearRegression(normalize=True),x,y,cv=5)\n",
    "print('Highest Accuracy : {}%'.format(round(sum(scores)*100/len(scores)),3))"
   ]
  },
  {
   "cell_type": "code",
   "execution_count": null,
   "id": "25bc1bdd",
   "metadata": {},
   "outputs": [],
   "source": [
    "from sklearn.model_selection import train_test_split\n",
    "x_train,x_test,y_train,y_test=train_test_split(x,y,test_size=0.20,random_state=5)\n",
    "print(len(x_train),len(x_test))\n"
   ]
  },
  {
   "cell_type": "code",
   "execution_count": null,
   "id": "88f4240a",
   "metadata": {},
   "outputs": [],
   "source": [
    "model=LinearRegression(normalize=True)\n",
    "model.fit(x_train,y_train)\n",
    "model.score(x_test,y_test)"
   ]
  },
  {
   "cell_type": "code",
   "execution_count": null,
   "id": "76004e00",
   "metadata": {},
   "outputs": [],
   "source": [
    "#prediction 1\n",
    "#Input in the form : GRE,TOEFL,University Rating,SOP,LOR,CGPA,Research\n",
    "print('chance of getting into UCLA is {} %'.format(round(model.predict([[322,110,3,3.5,2.5,8.67,1]])[0]*100,3)))"
   ]
  },
  {
   "cell_type": "code",
   "execution_count": null,
   "id": "4b6efc6d",
   "metadata": {},
   "outputs": [],
   "source": [
    "df"
   ]
  },
  {
   "cell_type": "code",
   "execution_count": null,
   "id": "b467a741",
   "metadata": {},
   "outputs": [],
   "source": [
    "#prediction 2\n",
    "#Input in the form : GRE,TOEFL,University Rating,SOP,LOR,CGPA,Research\n",
    "print('chance of getting into UCLA is {} %'.format(round(model.predict([[320,113,2,2.0,2.5,8.64,1]])[0]*100,3)))"
   ]
  },
  {
   "cell_type": "code",
   "execution_count": null,
   "id": "21ccacbc",
   "metadata": {},
   "outputs": [],
   "source": []
  },
  {
   "cell_type": "code",
   "execution_count": null,
   "id": "60febec7",
   "metadata": {},
   "outputs": [],
   "source": []
  }
 ],
 "metadata": {
  "kernelspec": {
   "display_name": "Python 3 (ipykernel)",
   "language": "python",
   "name": "python3"
  },
  "language_info": {
   "codemirror_mode": {
    "name": "ipython",
    "version": 3
   },
   "file_extension": ".py",
   "mimetype": "text/x-python",
   "name": "python",
   "nbconvert_exporter": "python",
   "pygments_lexer": "ipython3",
   "version": "3.9.7"
  }
 },
 "nbformat": 4,
 "nbformat_minor": 5
}
